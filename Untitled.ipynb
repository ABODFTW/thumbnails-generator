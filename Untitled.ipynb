{
 "cells": [
  {
   "cell_type": "code",
   "execution_count": 5,
   "id": "a9fac25b",
   "metadata": {},
   "outputs": [],
   "source": [
    "from PIL import ImageFont, Image, ImageDraw\n",
    "import os\n",
    "import textwrap"
   ]
  },
  {
   "cell_type": "code",
   "execution_count": 72,
   "id": "a976f554",
   "metadata": {},
   "outputs": [],
   "source": [
    "def split_text_to_match_boxsize(text, width):\n",
    "    \"\"\"\n",
    "    Paramaters\n",
    "    text:\n",
    "    width:\n",
    "    height:\n",
    "    Returns the same text with line breakers with-in the limits of the width\n",
    "    \"\"\"\n",
    "    font = ImageFont.truetype(\"fonts/Cairo-Regular.ttf\", 72)\n",
    "    words = text.split(\" \")\n",
    "    wrappedtext = []\n",
    "    sentence_width = 0\n",
    "    for word in words:\n",
    "        word = word + \" \"\n",
    "        word_width = draw.multiline_textbbox((0, 0), word, font=font)[2]\n",
    "        if (sentence_width + word_width) > width:\n",
    "            wrappedtext.append(\"\\n\")\n",
    "            sentence_width = 0\n",
    "        else:\n",
    "            sentence_width += word_width\n",
    "            wrappedtext.append(word)\n",
    "    print(wrappedtext)\n",
    "    return \"\".join(wrappedtext)"
   ]
  },
  {
   "cell_type": "code",
   "execution_count": 73,
   "id": "d3cda53e",
   "metadata": {},
   "outputs": [],
   "source": [
    "width = 1920"
   ]
  },
  {
   "cell_type": "code",
   "execution_count": 84,
   "id": "479a056d",
   "metadata": {
    "scrolled": false
   },
   "outputs": [
    {
     "name": "stdout",
     "output_type": "stream",
     "text": [
      "['Lorem ', 'Ipsum ', 'is ', 'simply ', 'dummy ', 'text ', 'of ', 'the ', 'printing ', 'and ', '\\n', 'industry. ', 'Lorem ', 'Ipsum ', 'has ', 'been ', 'the ', \"industry's \", 'standard ', '\\n', 'text ', 'ever ', 'since ', 'the ', '1500s, ', 'when ', 'an ', 'unknown ', 'printer ', 'took ', 'a ', '\\n', 'of ', 'type ', 'and ', 'scrambled ', 'it ', 'to ', 'make ', 'a ', 'type ', 'specimen ', 'book. ', ' ']\n",
      "Lorem Ipsum is simply dummy text of the printing and \n",
      "industry. Lorem Ipsum has been the industry's standard \n",
      "text ever since the 1500s, when an unknown printer took a \n",
      "of type and scrambled it to make a type specimen book.  \n",
      "(0, 42, 1789, 404)\n"
     ]
    },
    {
     "ename": "ValueError",
     "evalue": "anchor not supported for multiline text",
     "output_type": "error",
     "traceback": [
      "\u001b[0;31m---------------------------------------------------------------------------\u001b[0m",
      "\u001b[0;31mValueError\u001b[0m                                Traceback (most recent call last)",
      "\u001b[0;32m/tmp/ipykernel_1707/1269227875.py\u001b[0m in \u001b[0;36m<module>\u001b[0;34m\u001b[0m\n\u001b[1;32m      9\u001b[0m         \u001b[0mprint\u001b[0m\u001b[0;34m(\u001b[0m\u001b[0mdraw\u001b[0m\u001b[0;34m.\u001b[0m\u001b[0mmultiline_textbbox\u001b[0m\u001b[0;34m(\u001b[0m\u001b[0;34m(\u001b[0m\u001b[0;36m0\u001b[0m\u001b[0;34m,\u001b[0m \u001b[0;36m0\u001b[0m\u001b[0;34m)\u001b[0m\u001b[0;34m,\u001b[0m \u001b[0mtext\u001b[0m\u001b[0;34m,\u001b[0m \u001b[0mfont\u001b[0m\u001b[0;34m=\u001b[0m\u001b[0mfont\u001b[0m\u001b[0;34m)\u001b[0m\u001b[0;34m)\u001b[0m\u001b[0;34m\u001b[0m\u001b[0;34m\u001b[0m\u001b[0m\n\u001b[1;32m     10\u001b[0m \u001b[0;34m\u001b[0m\u001b[0m\n\u001b[0;32m---> 11\u001b[0;31m         draw.multiline_text(\n\u001b[0m\u001b[1;32m     12\u001b[0m             \u001b[0;34m(\u001b[0m\u001b[0;36m0\u001b[0m\u001b[0;34m,\u001b[0m \u001b[0;36m0\u001b[0m\u001b[0;34m)\u001b[0m\u001b[0;34m,\u001b[0m\u001b[0;34m\u001b[0m\u001b[0;34m\u001b[0m\u001b[0m\n\u001b[1;32m     13\u001b[0m             \u001b[0mtext\u001b[0m\u001b[0;34m,\u001b[0m\u001b[0;34m\u001b[0m\u001b[0;34m\u001b[0m\u001b[0m\n",
      "\u001b[0;32m~/projects/thumbnailsGenerator/.venv/lib/python3.8/site-packages/PIL/ImageDraw.py\u001b[0m in \u001b[0;36mmultiline_text\u001b[0;34m(self, xy, text, fill, font, anchor, spacing, align, direction, features, language, stroke_width, stroke_fill, embedded_color)\u001b[0m\n\u001b[1;32m    487\u001b[0m             \u001b[0;32mraise\u001b[0m \u001b[0mValueError\u001b[0m\u001b[0;34m(\u001b[0m\u001b[0;34m\"anchor must be a 2 character string\"\u001b[0m\u001b[0;34m)\u001b[0m\u001b[0;34m\u001b[0m\u001b[0;34m\u001b[0m\u001b[0m\n\u001b[1;32m    488\u001b[0m         \u001b[0;32melif\u001b[0m \u001b[0manchor\u001b[0m\u001b[0;34m[\u001b[0m\u001b[0;36m1\u001b[0m\u001b[0;34m]\u001b[0m \u001b[0;32min\u001b[0m \u001b[0;34m\"tb\"\u001b[0m\u001b[0;34m:\u001b[0m\u001b[0;34m\u001b[0m\u001b[0;34m\u001b[0m\u001b[0m\n\u001b[0;32m--> 489\u001b[0;31m             \u001b[0;32mraise\u001b[0m \u001b[0mValueError\u001b[0m\u001b[0;34m(\u001b[0m\u001b[0;34m\"anchor not supported for multiline text\"\u001b[0m\u001b[0;34m)\u001b[0m\u001b[0;34m\u001b[0m\u001b[0;34m\u001b[0m\u001b[0m\n\u001b[0m\u001b[1;32m    490\u001b[0m \u001b[0;34m\u001b[0m\u001b[0m\n\u001b[1;32m    491\u001b[0m         \u001b[0mwidths\u001b[0m \u001b[0;34m=\u001b[0m \u001b[0;34m[\u001b[0m\u001b[0;34m]\u001b[0m\u001b[0;34m\u001b[0m\u001b[0;34m\u001b[0m\u001b[0m\n",
      "\u001b[0;31mValueError\u001b[0m: anchor not supported for multiline text"
     ]
    }
   ],
   "source": [
    "with Image.open(os.path.join(\"uploads\", \"image.jpg\")).convert(\"RGB\") as base:\n",
    "        draw = ImageDraw.Draw(base)\n",
    "\n",
    "        font = ImageFont.truetype(\n",
    "            \"fonts/Cairo-Regular.ttf\", 72\n",
    "        )\n",
    "        text = split_text_to_match_boxsize(\"Lorem Ipsum is simply dummy text of the printing and typesetting industry. Lorem Ipsum has been the industry's standard dummy text ever since the 1500s, when an unknown printer took a galley of type and scrambled it to make a type specimen book. \", width)\n",
    "        print(text)\n",
    "        print(draw.multiline_textbbox((0, 0), text, font=font))\n",
    "        \n",
    "        draw.multiline_text(\n",
    "            (0, 0),\n",
    "            text,\n",
    "            fill=\"#000\",\n",
    "            font=font,\n",
    "            anchor=\"mb\",\n",
    "            align=\"center\",\n",
    "            direction=\"ltr\",\n",
    "        )\n",
    "        \n",
    "        base.show()"
   ]
  },
  {
   "cell_type": "code",
   "execution_count": null,
   "id": "6f5d5a7e",
   "metadata": {},
   "outputs": [],
   "source": []
  },
  {
   "cell_type": "code",
   "execution_count": null,
   "id": "18934343",
   "metadata": {},
   "outputs": [],
   "source": []
  }
 ],
 "metadata": {
  "kernelspec": {
   "display_name": "Python 3 (ipykernel)",
   "language": "python",
   "name": "python3"
  },
  "language_info": {
   "codemirror_mode": {
    "name": "ipython",
    "version": 3
   },
   "file_extension": ".py",
   "mimetype": "text/x-python",
   "name": "python",
   "nbconvert_exporter": "python",
   "pygments_lexer": "ipython3",
   "version": "3.8.10"
  }
 },
 "nbformat": 4,
 "nbformat_minor": 5
}
